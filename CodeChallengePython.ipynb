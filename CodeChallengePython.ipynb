{
  "nbformat": 4,
  "nbformat_minor": 0,
  "metadata": {
    "colab": {
      "provenance": [],
      "authorship_tag": "ABX9TyPNhmvpOiTxlel/F+BxGLVu",
      "include_colab_link": true
    },
    "kernelspec": {
      "name": "python3",
      "display_name": "Python 3"
    },
    "language_info": {
      "name": "python"
    }
  },
  "cells": [
    {
      "cell_type": "markdown",
      "metadata": {
        "id": "view-in-github",
        "colab_type": "text"
      },
      "source": [
        "<a href=\"https://colab.research.google.com/github/Erose-T/Erose-T/blob/main/CodeChallengePython.ipynb\" target=\"_parent\"><img src=\"https://colab.research.google.com/assets/colab-badge.svg\" alt=\"Open In Colab\"/></a>"
      ]
    },
    {
      "cell_type": "code",
      "execution_count": 6,
      "metadata": {
        "colab": {
          "base_uri": "https://localhost:8080/"
        },
        "id": "wy-XBlZwQPeK",
        "outputId": "a4c07ef5-b496-4386-dae3-57c78d3fbef7"
      },
      "outputs": [
        {
          "output_type": "stream",
          "name": "stdout",
          "text": [
            "enitsuJ\n"
          ]
        }
      ],
      "source": [
        "show_expected_result = False\n",
        "show_hints = False\n",
        "\n",
        "text = \"example\"\n",
        "def reverse_string(text):\n",
        "  return text[::-1]\n",
        "print(reverse_string(text))\n"
      ]
    }
  ]
}