{
  "nbformat": 4,
  "nbformat_minor": 0,
  "metadata": {
    "colab": {
      "provenance": [],
      "authorship_tag": "ABX9TyNQfhByZRYv/DXsr7uK2dYG",
      "include_colab_link": true
    },
    "kernelspec": {
      "name": "python3",
      "display_name": "Python 3"
    },
    "language_info": {
      "name": "python"
    }
  },
  "cells": [
    {
      "cell_type": "markdown",
      "metadata": {
        "id": "view-in-github",
        "colab_type": "text"
      },
      "source": [
        "<a href=\"https://colab.research.google.com/github/Erose-T/Erose-T/blob/main/StringManipulation.ipynb\" target=\"_parent\"><img src=\"https://colab.research.google.com/assets/colab-badge.svg\" alt=\"Open In Colab\"/></a>"
      ]
    },
    {
      "cell_type": "code",
      "execution_count": 3,
      "metadata": {
        "colab": {
          "base_uri": "https://localhost:8080/"
        },
        "id": "hZ4NBpzjICdx",
        "outputId": "e035c86c-333c-4626-81f3-5e70e8a0f161"
      },
      "outputs": [
        {
          "output_type": "stream",
          "name": "stdout",
          "text": [
            "Annyeong Haseyo Taehyungie\n"
          ]
        }
      ],
      "source": [
        "greeting = \"Annyeong Haseyo \"\n",
        "name = 'Taehyungie'\n",
        "message = greeting + name\n",
        "\n",
        "print(message)"
      ]
    },
    {
      "cell_type": "code",
      "source": [
        "new_string = greeting.replace(\"Annyeong Haseyo\", \"Hi\")\n",
        "print(new_string)\n",
        "message = new_string + name\n",
        "print(message)"
      ],
      "metadata": {
        "colab": {
          "base_uri": "https://localhost:8080/"
        },
        "id": "epOOfu1EI1JG",
        "outputId": "86f3c4f3-9ccb-4ecf-b6ee-f6ab685ad3a7"
      },
      "execution_count": 8,
      "outputs": [
        {
          "output_type": "stream",
          "name": "stdout",
          "text": [
            "Hi \n",
            "Hi Taehyungie\n"
          ]
        }
      ]
    },
    {
      "cell_type": "markdown",
      "source": [
        "Replace function is used to manipulate the initial input value that you created."
      ],
      "metadata": {
        "id": "Kv7bNlbeJ2mo"
      }
    },
    {
      "cell_type": "code",
      "source": [
        "sentence = '  Hello World  '\n",
        "print(sentence.strip())"
      ],
      "metadata": {
        "colab": {
          "base_uri": "https://localhost:8080/"
        },
        "id": "IdSOb7UiJWQv",
        "outputId": "1ace12bf-ac6b-49c7-e227-46d3d9ee21d5"
      },
      "execution_count": 11,
      "outputs": [
        {
          "output_type": "stream",
          "name": "stdout",
          "text": [
            "Hello World\n"
          ]
        }
      ]
    },
    {
      "cell_type": "markdown",
      "source": [
        "Strip function is used to delete extra spaces in the code"
      ],
      "metadata": {
        "id": "8VbS6pHaJsal"
      }
    },
    {
      "cell_type": "code",
      "source": [
        "index = greeting.find(\"Haseyo\")\n",
        "print(index)"
      ],
      "metadata": {
        "colab": {
          "base_uri": "https://localhost:8080/"
        },
        "id": "GNKbD9bOJxjc",
        "outputId": "5beac612-d5e1-4328-d7dc-ce92d7c212ba"
      },
      "execution_count": 12,
      "outputs": [
        {
          "output_type": "stream",
          "name": "stdout",
          "text": [
            "9\n"
          ]
        }
      ]
    },
    {
      "cell_type": "markdown",
      "source": [
        "Find function is use to find which position in the code does the word 'Haseyo' is."
      ],
      "metadata": {
        "id": "nFrH1IzsKkBR"
      }
    },
    {
      "cell_type": "code",
      "source": [
        "template = \"Hello {}\"\n",
        "print(template.format('Kets'))"
      ],
      "metadata": {
        "colab": {
          "base_uri": "https://localhost:8080/"
        },
        "id": "k73LlaAJKqdY",
        "outputId": "bd672955-16e7-4c39-d96c-dc4314264aec"
      },
      "execution_count": 13,
      "outputs": [
        {
          "output_type": "stream",
          "name": "stdout",
          "text": [
            "Hello Kets\n"
          ]
        }
      ]
    },
    {
      "cell_type": "markdown",
      "source": [
        "Format function is used to manipulate the data that will be replace in the {} curly bracket."
      ],
      "metadata": {
        "id": "8gzHXOryK-9j"
      }
    },
    {
      "cell_type": "code",
      "source": [
        "print(greeting.upper())\n",
        "print(greeting.lower())"
      ],
      "metadata": {
        "colab": {
          "base_uri": "https://localhost:8080/"
        },
        "id": "kUgRZCfaLKF4",
        "outputId": "81add2d3-cb61-4543-da94-25f1b5f4eb68"
      },
      "execution_count": 15,
      "outputs": [
        {
          "output_type": "stream",
          "name": "stdout",
          "text": [
            "ANNYEONG HASEYO \n",
            "annyeong haseyo \n"
          ]
        }
      ]
    },
    {
      "cell_type": "markdown",
      "source": [
        "Upper and Lower function is used to upper case the string"
      ],
      "metadata": {
        "id": "rtSgUzFaLVeU"
      }
    },
    {
      "cell_type": "code",
      "source": [
        "words = greeting.split()\n",
        "print(words)"
      ],
      "metadata": {
        "colab": {
          "base_uri": "https://localhost:8080/"
        },
        "id": "3JyKInikLZZM",
        "outputId": "fe5a5e0d-3d7d-4782-989a-e7de44320e76"
      },
      "execution_count": 16,
      "outputs": [
        {
          "output_type": "stream",
          "name": "stdout",
          "text": [
            "['Annyeong', 'Haseyo']\n"
          ]
        }
      ]
    }
  ]
}