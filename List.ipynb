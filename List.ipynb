{
  "nbformat": 4,
  "nbformat_minor": 0,
  "metadata": {
    "colab": {
      "provenance": [],
      "authorship_tag": "ABX9TyOhOyAZEFPQ3WT47jgnr3Px",
      "include_colab_link": true
    },
    "kernelspec": {
      "name": "python3",
      "display_name": "Python 3"
    },
    "language_info": {
      "name": "python"
    }
  },
  "cells": [
    {
      "cell_type": "markdown",
      "metadata": {
        "id": "view-in-github",
        "colab_type": "text"
      },
      "source": [
        "<a href=\"https://colab.research.google.com/github/Erose-T/Erose-T/blob/main/List.ipynb\" target=\"_parent\"><img src=\"https://colab.research.google.com/assets/colab-badge.svg\" alt=\"Open In Colab\"/></a>"
      ]
    },
    {
      "cell_type": "markdown",
      "source": [
        "List can be ordered, mutable, allow duplicates"
      ],
      "metadata": {
        "id": "cNvXp5btSSXS"
      }
    },
    {
      "cell_type": "code",
      "source": [
        "task = ['development', 'testing', 'monitoring']\n",
        "print(task)"
      ],
      "metadata": {
        "colab": {
          "base_uri": "https://localhost:8080/"
        },
        "id": "r7gKP7DASYt3",
        "outputId": "dc181f43-2151-4b00-e559-860ff3909f1e"
      },
      "execution_count": 1,
      "outputs": [
        {
          "output_type": "stream",
          "name": "stdout",
          "text": [
            "['development', 'testing', 'monitoring']\n"
          ]
        }
      ]
    },
    {
      "cell_type": "code",
      "source": [
        "print(task[1])"
      ],
      "metadata": {
        "colab": {
          "base_uri": "https://localhost:8080/"
        },
        "id": "9l-uL8dESitP",
        "outputId": "eaa2c5d3-3db9-4249-dd03-c65b3057ea1f"
      },
      "execution_count": 2,
      "outputs": [
        {
          "output_type": "stream",
          "name": "stdout",
          "text": [
            "testing\n"
          ]
        }
      ]
    },
    {
      "cell_type": "code",
      "source": [
        "task[1] = 'New_testing'\n",
        "print(task)"
      ],
      "metadata": {
        "colab": {
          "base_uri": "https://localhost:8080/"
        },
        "id": "gEBfQ3pmStlO",
        "outputId": "97c430b9-798d-4818-c45d-d7f3f2525476"
      },
      "execution_count": 3,
      "outputs": [
        {
          "output_type": "stream",
          "name": "stdout",
          "text": [
            "['development', 'New_testing', 'monitoring']\n"
          ]
        }
      ]
    },
    {
      "cell_type": "markdown",
      "source": [
        "Append function is used to add additional data to the list"
      ],
      "metadata": {
        "id": "wVEJEec9TGFh"
      }
    },
    {
      "cell_type": "code",
      "source": [
        "task.append('Production deployment')\n",
        "print(task)"
      ],
      "metadata": {
        "colab": {
          "base_uri": "https://localhost:8080/"
        },
        "id": "sU98ownMS4u8",
        "outputId": "45fb5293-e1ad-49ba-a134-2f413b537161"
      },
      "execution_count": 4,
      "outputs": [
        {
          "output_type": "stream",
          "name": "stdout",
          "text": [
            "['development', 'New_testing', 'monitoring', 'Production deployment']\n"
          ]
        }
      ]
    },
    {
      "cell_type": "markdown",
      "source": [
        "Insert function is used to add additional data depending on the position or index to add it."
      ],
      "metadata": {
        "id": "cC9ElAzgTXWQ"
      }
    },
    {
      "cell_type": "code",
      "source": [
        "task.insert(1,'Unit Testing')\n",
        "print(task)"
      ],
      "metadata": {
        "colab": {
          "base_uri": "https://localhost:8080/"
        },
        "id": "nW2hHmQLTPgi",
        "outputId": "e6a5d008-ec67-44a2-ceae-ae37f4801c8f"
      },
      "execution_count": 5,
      "outputs": [
        {
          "output_type": "stream",
          "name": "stdout",
          "text": [
            "['development', 'Unit Testing', 'New_testing', 'monitoring', 'Production deployment']\n"
          ]
        }
      ]
    },
    {
      "cell_type": "markdown",
      "source": [
        "Remove function is used to remove element in the list."
      ],
      "metadata": {
        "id": "vpXmkH-ATvdn"
      }
    },
    {
      "cell_type": "code",
      "source": [
        "task.remove('Unit Testing')\n",
        "print(task)"
      ],
      "metadata": {
        "colab": {
          "base_uri": "https://localhost:8080/"
        },
        "id": "3ggvTjijTf9u",
        "outputId": "74ebc773-9cc8-4bbe-d9a5-51b4308277d5"
      },
      "execution_count": 6,
      "outputs": [
        {
          "output_type": "stream",
          "name": "stdout",
          "text": [
            "['development', 'New_testing', 'monitoring', 'Production deployment']\n"
          ]
        }
      ]
    },
    {
      "cell_type": "markdown",
      "source": [
        "Pop function is used to remove element on the list based on the index."
      ],
      "metadata": {
        "id": "tJZvcvuRT6GJ"
      }
    },
    {
      "cell_type": "code",
      "source": [
        "task.pop(1)\n",
        "print(task)"
      ],
      "metadata": {
        "colab": {
          "base_uri": "https://localhost:8080/"
        },
        "id": "hWARIzYcTzTx",
        "outputId": "8f464cb5-ad32-4ed2-9749-22ad02de13f3"
      },
      "execution_count": 7,
      "outputs": [
        {
          "output_type": "stream",
          "name": "stdout",
          "text": [
            "['development', 'monitoring', 'Production deployment']\n"
          ]
        }
      ]
    },
    {
      "cell_type": "markdown",
      "source": [
        "FOR function is used to print the element in column"
      ],
      "metadata": {
        "id": "voZ_iaAxUHiQ"
      }
    },
    {
      "cell_type": "code",
      "source": [
        "for x in task:\n",
        "  print(x)"
      ],
      "metadata": {
        "colab": {
          "base_uri": "https://localhost:8080/"
        },
        "id": "1GNQ27NRUBmR",
        "outputId": "6820b5eb-9856-4db4-d6d2-3c57bd4bc5ee"
      },
      "execution_count": 8,
      "outputs": [
        {
          "output_type": "stream",
          "name": "stdout",
          "text": [
            "development\n",
            "monitoring\n",
            "Production deployment\n"
          ]
        }
      ]
    }
  ]
}