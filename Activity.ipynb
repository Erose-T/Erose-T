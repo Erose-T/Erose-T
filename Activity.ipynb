{
  "nbformat": 4,
  "nbformat_minor": 0,
  "metadata": {
    "colab": {
      "provenance": [],
      "authorship_tag": "ABX9TyNQPzQ3BxbrNlOphEW13Gpn",
      "include_colab_link": true
    },
    "kernelspec": {
      "name": "python3",
      "display_name": "Python 3"
    },
    "language_info": {
      "name": "python"
    }
  },
  "cells": [
    {
      "cell_type": "markdown",
      "metadata": {
        "id": "view-in-github",
        "colab_type": "text"
      },
      "source": [
        "<a href=\"https://colab.research.google.com/github/Erose-T/Erose-T/blob/main/Activity.ipynb\" target=\"_parent\"><img src=\"https://colab.research.google.com/assets/colab-badge.svg\" alt=\"Open In Colab\"/></a>"
      ]
    },
    {
      "cell_type": "markdown",
      "source": [
        "Writing to a File: Use the with open('filename', 'w') as file syntax to open a file in write mode and use file.write(text) to write a string to the file.\n",
        "\n",
        "Reading from a File: Use the with open('filename', 'r') as file syntax to open a file in read mode and use file.read() to read the content of the file into a variable.\n",
        "\n",
        "Verification: Ensure that the content read from the file matches the content written to it to verify the correctness of the file operations."
      ],
      "metadata": {
        "id": "rneL2hxnnIRo"
      }
    },
    {
      "cell_type": "code",
      "execution_count": null,
      "metadata": {
        "id": "jFHNNOwYmlyT"
      },
      "outputs": [],
      "source": []
    },
    {
      "cell_type": "code",
      "source": [],
      "metadata": {
        "id": "0EM0mWPWnPrF"
      },
      "execution_count": null,
      "outputs": []
    }
  ]
}