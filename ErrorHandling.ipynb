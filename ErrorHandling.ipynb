{
  "nbformat": 4,
  "nbformat_minor": 0,
  "metadata": {
    "colab": {
      "provenance": [],
      "authorship_tag": "ABX9TyNWVvGcPbM0+9aaDqFAEQt3",
      "include_colab_link": true
    },
    "kernelspec": {
      "name": "python3",
      "display_name": "Python 3"
    },
    "language_info": {
      "name": "python"
    }
  },
  "cells": [
    {
      "cell_type": "markdown",
      "metadata": {
        "id": "view-in-github",
        "colab_type": "text"
      },
      "source": [
        "<a href=\"https://colab.research.google.com/github/Erose-T/Erose-T/blob/main/ErrorHandling.ipynb\" target=\"_parent\"><img src=\"https://colab.research.google.com/assets/colab-badge.svg\" alt=\"Open In Colab\"/></a>"
      ]
    },
    {
      "cell_type": "code",
      "source": [
        "try:\n",
        "  print(10/0)\n",
        "except:\n",
        "  print(\"Undefined, cannot be solve\")"
      ],
      "metadata": {
        "colab": {
          "base_uri": "https://localhost:8080/"
        },
        "id": "6WWuIfwdNtib",
        "outputId": "eecacd1b-dc80-40aa-98c9-53b3fe6185e8"
      },
      "execution_count": 7,
      "outputs": [
        {
          "output_type": "stream",
          "name": "stdout",
          "text": [
            "Undefined, cannot be solve\n"
          ]
        }
      ]
    },
    {
      "cell_type": "code",
      "source": [
        "try:\n",
        "  print(10/3)\n",
        "except:\n",
        "  print(\"Undefined, cannot be solve\")\n",
        "else:\n",
        "  print(\"Nothing wrong happened\")\n",
        "finally:\n",
        "  print(\"Execute always\")"
      ],
      "metadata": {
        "colab": {
          "base_uri": "https://localhost:8080/"
        },
        "id": "GE3M4HeWPceH",
        "outputId": "c7e97d57-ba99-4a0c-930b-1fb888d9d326"
      },
      "execution_count": 10,
      "outputs": [
        {
          "output_type": "stream",
          "name": "stdout",
          "text": [
            "3.3333333333333335\n",
            "Nothing wrong happened\n",
            "Execute always\n"
          ]
        }
      ]
    }
  ]
}