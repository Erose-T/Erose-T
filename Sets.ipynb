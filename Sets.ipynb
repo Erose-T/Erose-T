{
  "nbformat": 4,
  "nbformat_minor": 0,
  "metadata": {
    "colab": {
      "provenance": [],
      "authorship_tag": "ABX9TyOtUI7KaqR4GPHWSfK41Q0a",
      "include_colab_link": true
    },
    "kernelspec": {
      "name": "python3",
      "display_name": "Python 3"
    },
    "language_info": {
      "name": "python"
    }
  },
  "cells": [
    {
      "cell_type": "markdown",
      "metadata": {
        "id": "view-in-github",
        "colab_type": "text"
      },
      "source": [
        "<a href=\"https://colab.research.google.com/github/Erose-T/Erose-T/blob/main/Sets.ipynb\" target=\"_parent\"><img src=\"https://colab.research.google.com/assets/colab-badge.svg\" alt=\"Open In Colab\"/></a>"
      ]
    },
    {
      "cell_type": "markdown",
      "source": [
        "Sets are like collection of unique clues. The data is printed not in order."
      ],
      "metadata": {
        "id": "vBkwRuUxUbTj"
      }
    },
    {
      "cell_type": "code",
      "source": [
        "task = {'development', 'testing', 'monitoring'}\n",
        "print(task)"
      ],
      "metadata": {
        "colab": {
          "base_uri": "https://localhost:8080/"
        },
        "id": "ku6FMYdEUjjH",
        "outputId": "3ac06b7b-f4a2-4542-90cd-de16ebab3a91"
      },
      "execution_count": 1,
      "outputs": [
        {
          "output_type": "stream",
          "name": "stdout",
          "text": [
            "{'monitoring', 'testing', 'development'}\n"
          ]
        }
      ]
    },
    {
      "cell_type": "code",
      "source": [
        "task = {'development', 'testing', 'monitoring', 'testing'}\n",
        "print(task)"
      ],
      "metadata": {
        "colab": {
          "base_uri": "https://localhost:8080/"
        },
        "id": "ZAJrSZ1RVBLL",
        "outputId": "55a87537-54e0-42cf-ed1c-102472711e38"
      },
      "execution_count": 2,
      "outputs": [
        {
          "output_type": "stream",
          "name": "stdout",
          "text": [
            "{'monitoring', 'testing', 'development'}\n"
          ]
        }
      ]
    },
    {
      "cell_type": "markdown",
      "source": [
        "Add function is used in adding new element in the sets"
      ],
      "metadata": {
        "id": "zfm42aBnVVIz"
      }
    },
    {
      "cell_type": "code",
      "source": [
        "task.add('prod deployment')\n",
        "print(task)"
      ],
      "metadata": {
        "colab": {
          "base_uri": "https://localhost:8080/"
        },
        "id": "d8LiwJngVPAy",
        "outputId": "99341209-4d6c-451f-d91d-a20b82cbb75e"
      },
      "execution_count": 3,
      "outputs": [
        {
          "output_type": "stream",
          "name": "stdout",
          "text": [
            "{'monitoring', 'prod deployment', 'testing', 'development'}\n"
          ]
        }
      ]
    },
    {
      "cell_type": "code",
      "source": [
        "new_task = {'unit testing', 'SIT testing'}\n",
        "task.update(new_task)\n",
        "print(task)"
      ],
      "metadata": {
        "colab": {
          "base_uri": "https://localhost:8080/"
        },
        "id": "B2ZxAQ6HVY8L",
        "outputId": "d1018421-8d81-40f2-a0bb-9861eb7c04e9"
      },
      "execution_count": 4,
      "outputs": [
        {
          "output_type": "stream",
          "name": "stdout",
          "text": [
            "{'SIT testing', 'prod deployment', 'development', 'monitoring', 'testing', 'unit testing'}\n"
          ]
        }
      ]
    },
    {
      "cell_type": "code",
      "source": [
        "task.remove('testing')\n",
        "print(task)"
      ],
      "metadata": {
        "colab": {
          "base_uri": "https://localhost:8080/"
        },
        "id": "glwXM_cPVnVQ",
        "outputId": "efa7186b-5c57-4086-ddd3-b78b97458dd4"
      },
      "execution_count": 5,
      "outputs": [
        {
          "output_type": "stream",
          "name": "stdout",
          "text": [
            "{'SIT testing', 'prod deployment', 'development', 'monitoring', 'unit testing'}\n"
          ]
        }
      ]
    },
    {
      "cell_type": "code",
      "source": [
        "new_task.clear()\n",
        "print(new_task)"
      ],
      "metadata": {
        "colab": {
          "base_uri": "https://localhost:8080/"
        },
        "id": "qcwLlauXVtn_",
        "outputId": "67b214ec-780b-4c89-9590-23c1f59816ea"
      },
      "execution_count": 6,
      "outputs": [
        {
          "output_type": "stream",
          "name": "stdout",
          "text": [
            "set()\n"
          ]
        }
      ]
    }
  ]
}